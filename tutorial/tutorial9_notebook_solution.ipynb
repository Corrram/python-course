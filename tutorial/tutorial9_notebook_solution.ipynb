{
 "cells": [
  {
   "cell_type": "markdown",
   "metadata": {},
   "source": [
    "# Python Course - Tutorial 9"
   ]
  },
  {
   "cell_type": "markdown",
   "metadata": {},
   "source": [
    "### Exercise 1 (Data Visualization with Matplotlib)\n",
    "\n",
    "Consider the music.db database provided in our GitHub repository. Create a histogram\n",
    "that shows the distribution of the total number of items purchased per invoice. Add\n",
    "appropriate axis labels, a title, and a grid to the plot. Save the plot in a designated\n",
    "directory named images/ and exclude this directory from version control."
   ]
  },
  {
   "cell_type": "code",
   "metadata": {
    "ExecuteTime": {
     "end_time": "2025-01-22T13:40:07.554634Z",
     "start_time": "2025-01-22T13:40:03.178524Z"
    }
   },
   "source": [
    "import pathlib\n",
    "import sqlite3\n",
    "import pandas as pd\n",
    "import matplotlib.pyplot as plt\n",
    "\n",
    "# Connect to the SQLite database and read the 'invoice_items' table into a DataFrame\n",
    "with sqlite3.connect(\"../music.db\") as conn:\n",
    "    invoices_items_df = pd.read_sql_query(\"SELECT * FROM invoice_items\", conn)\n",
    "\n",
    "# Group the data by 'InvoiceId' and calculate the total quantity of items per invoice\n",
    "invoice_totals = invoices_items_df.groupby(\"InvoiceId\")[\"Quantity\"].sum()\n",
    "\n",
    "# Plot a histogram of the total quantities of items per invoice\n",
    "plt.hist(invoice_totals, bins=20)\n",
    "plt.xlabel(\"Total Quantity of Items per Invoice\")\n",
    "plt.ylabel(\"Frequency\")\n",
    "plt.title(\"Distribution of Invoice Quantities\")\n",
    "plt.grid(True)\n",
    "\n",
    "# Create an 'images' directory if it doesn't already exist and save the plot\n",
    "pathlib.Path(\"images\").mkdir(exist_ok=True)\n",
    "plt.savefig(\"images/invoice_quantity_histogram.jpg\")\n",
    "\n",
    "# Display the histogram plot\n",
    "plt.show()\n"
   ],
   "outputs": [
    {
     "data": {
      "text/plain": [
       "<Figure size 640x480 with 1 Axes>"
      ],
      "image/png": "[encoded data removed]"
     },
     "metadata": {},
     "output_type": "display_data"
    }
   ],
   "execution_count": 1
  },
  {
   "cell_type": "markdown",
   "metadata": {},
   "source": [
    "### Exercise 2 (Linear Regression with Statsmodels)\n",
    "\n",
    "Using the `music.db` database, investigate the relationship between track length and the number of times a track has been streamed. Treat track length (in milliseconds) as the **independent variable** and the total number of streams (from the play histories table) as the **dependent variable**.\n",
    "\n",
    "*Note:* Since track length does not have mean zero, you should include an intercept in the model. For this, you can use `X = sm.add_constant(X, prepend=True)` before fitting the model.\n"
   ]
  },
  {
   "cell_type": "code",
   "metadata": {},
   "source": [
    "import statsmodels.api as sm\n",
    "import sqlite3\n",
    "import pandas as pd\n",
    "import matplotlib.pyplot as plt\n",
    "\n",
    "# Connect to the SQLite database and fetch data from 'tracks' and 'play_histories' tables\n",
    "conn = sqlite3.connect(\"../music.db\")\n",
    "tracks_df = pd.read_sql_query(\"SELECT TrackId, Milliseconds FROM tracks\", conn)\n",
    "play_histories_df = pd.read_sql_query(\"SELECT * FROM play_histories\", conn)\n",
    "conn.close()\n",
    "\n",
    "# Aggregate the number of streams for each track\n",
    "stream_counts = play_histories_df.groupby(\"TrackId\").size().reset_index(name=\"NumStreams\")\n",
    "\n",
    "# Merge the track data with the stream counts on 'TrackId'\n",
    "merged_df = pd.merge(tracks_df, stream_counts, on=\"TrackId\", how=\"inner\")\n",
    "\n",
    "# Prepare the independent variable (track length) and dependent variable (number of streams)\n",
    "X = merged_df[\"Milliseconds\"].astype(float)\n",
    "y = merged_df[\"NumStreams\"].astype(float)\n",
    "X = sm.add_constant(X, prepend=True)  # Add a constant term for the regression model\n",
    "\n",
    "# Fit a linear regression model using Ordinary Least Squares (OLS)\n",
    "model = sm.OLS(y, X).fit()\n",
    "print(model.summary())\n",
    "\n",
    "# Plot the data and the regression line\n",
    "plt.scatter(merged_df[\"Milliseconds\"], merged_df[\"NumStreams\"], label=\"Data\", alpha=0.7)\n",
    "plt.plot(merged_df[\"Milliseconds\"], model.predict(X), color=\"red\", label=\"Fit\")\n",
    "\n",
    "# Label the axes, add a title, grid, and legend to the plot\n",
    "plt.xlabel(\"Track Length (ms)\")\n",
    "plt.ylabel(\"Number of Streams\")\n",
    "plt.title(\"Linear Regression: Number of Streams vs. Track Length\")\n",
    "plt.grid()\n",
    "plt.legend()\n",
    "plt.show()\n"
   ],
   "outputs": [],
   "execution_count": null
  },
  {
   "cell_type": "markdown",
   "metadata": {},
   "source": [
    "### Exercise 3 (Statistical Analysis with SciPy)\n",
    "\n",
    "The `northwind` database from our GitHub repository contains unit price and category information for various products. Write a function that takes two category names as input and performs a **t-test** to determine if the mean product unit prices of the two categories are significantly different. The function should return a boolean value indicating whether the difference is significant at a **95% confidence level** (i.e., whether the p-value is less than 0.05).\n"
   ]
  },
  {
   "cell_type": "code",
   "metadata": {},
   "source": [
    "import sqlite3\n",
    "import pandas as pd\n",
    "from scipy import stats\n",
    "\n",
    "def has_significant_price_differences(category1, category2):\n",
    "    # Connect to the SQLite database and fetch data from 'Products' and 'Categories' tables\n",
    "    with sqlite3.connect(\"data/northwind.db\") as conn:\n",
    "        products_df = pd.read_sql_query(\"SELECT * FROM Products\", conn)\n",
    "        categories_df = pd.read_sql_query(\"SELECT * FROM Categories\", conn)\n",
    "\n",
    "    # Merge the products and categories data on 'CategoryID'\n",
    "    merged_df = pd.merge(products_df, categories_df, on=\"CategoryID\", how=\"inner\")\n",
    "\n",
    "    # Extract prices for the specified categories\n",
    "    cat1_prices = merged_df.loc[merged_df[\"CategoryName\"] == category1, \"UnitPrice\"]\n",
    "    cat2_prices = merged_df.loc[merged_df[\"CategoryName\"] == category2, \"UnitPrice\"]\n",
    "\n",
    "    # Perform an independent t-test to compare the two categories\n",
    "    t_stat, p_val = stats.ttest_ind(cat1_prices, cat2_prices)\n",
    "\n",
    "    # Print the test statistics and interpret the result\n",
    "    print(\"T-statistic:\", round(t_stat, 4))\n",
    "    print(\"P-value:\", round(p_val, 4))\n",
    "    if p_val < 0.05:\n",
    "        print(\"Reject null hypothesis: The means are different\")\n",
    "        return True\n",
    "    else:\n",
    "        print(\"Fail to reject null hypothesis: The means are the same\")\n",
    "        return False\n",
    "\n",
    "# Check for significant price differences between two categories\n",
    "result = has_significant_price_differences(\"Beverages\", \"Condiments\")\n",
    "print(result)\n"
   ],
   "outputs": [],
   "execution_count": null
  },
  {
   "cell_type": "markdown",
   "metadata": {},
   "source": [
    "### Exercise 4 (Sharpe Ratio Comparison)\n",
    "In the field of finance, the **Sharpe Ratio** is a common metric used to understand how well an investment performs relative to its risk. Formally, the Sharpe Ratio is calculated as:\n",
    "\n",
    "$$\n",
    "\\text{Sharpe Ratio} = \\frac{R_p - R_f}{\\sigma_p}\n",
    "$$\n",
    "\n",
    "where:  \n",
    "- $R_p$ is the expected return (often taken as the mean return of the asset over a given period).  \n",
    "- $R_f$ is the risk-free rate (a theoretical return of an investment with zero risk, often approximated by government bonds).  \n",
    "- $\\sigma_p$ is the standard deviation (volatility) of the asset’s returns.\n",
    "\n",
    "A higher Sharpe Ratio indicates that the investment is providing a higher return per unit of risk.\n",
    "\n",
    "---\n",
    "\n",
    "**In the lecture you have downloaded:**\n",
    "\n",
    "1. **SP500_Total_Return.csv**: Historical data for the S&P 500 Total Return Index  \n",
    "2. **DAX.csv**: Historical data for the DAX Index  \n",
    "\n",
    "**Your tasks are to:**  \n",
    "\n",
    "(i) Load both datasets from the CSV files into Pandas DataFrames.  \n",
    "\n",
    "(ii) Compute the daily returns for each index (use e.g., Pandas `pct_change()` method).  \n",
    "\n",
    "(iii) Assume a **constant annualized risk-free rate of 2%** for this analysis. (In practice, you might load this from a dataset or a more appropriate proxy.)  \n",
    "\n",
    "(iv) Compute the annualized Sharpe Ratio for each index using:\n",
    "\n",
    "$$\n",
    "\\text{Sharpe Ratio (annualized)} = \\frac{(\\text{mean daily return} - \\text{daily risk-free rate}) \\times 252}{\\text{daily return volatility} \\times \\sqrt{252}}\n",
    "$$\n",
    "\n",
    "Here, $252$ represents the approximate number of trading days in a year.\n",
    "\n",
    "(v) Print out the Sharpe Ratio for both the S&P 500 Total Return and the DAX, and compare which one has a higher risk-adjusted return.\n",
    "\n",
    "**Note:** If a particular index has no data or returns are NaN, handle it gracefully and report that the Sharpe Ratio cannot be computed."
   ]
  },
  {
   "cell_type": "code",
   "metadata": {},
   "source": [
    "import pandas as pd\n",
    "import numpy as np\n",
    "\n",
    "# (i) Load the CSV files into DataFrames\n",
    "sp500_df = pd.read_csv(\"../examples/data/SP500_Total_Return.csv\", parse_dates=[\"Date\"], index_col=\"Date\")\n",
    "dax_df = pd.read_csv(\"../examples/data/DAX.csv\", parse_dates=[\"Date\"], index_col=\"Date\")\n",
    "\n",
    "# (ii) Compute daily returns\n",
    "sp500_df[\"Daily_Return\"] = sp500_df[\"Adj Close\"].pct_change()\n",
    "dax_df[\"Daily_Return\"] = dax_df[\"Adj Close\"].pct_change()\n",
    "\n",
    "# (iii) Assume an annualized risk-free rate of 2%\n",
    "annual_rf = 0.02\n",
    "# Convert annual risk-free rate to daily\n",
    "daily_rf = (1 + annual_rf)**(1/252) - 1\n",
    "\n",
    "# (iv) Compute Sharpe Ratios\n",
    "def compute_annualized_sharpe_ratio(returns, daily_risk_free):\n",
    "    # Drop NaN values\n",
    "    returns = returns.dropna()\n",
    "    if len(returns) == 0:\n",
    "        return np.nan\n",
    "    mean_daily = returns.mean()\n",
    "    daily_vol = returns.std()\n",
    "    # Annualized Sharpe Ratio\n",
    "    sharpe_ratio = ((mean_daily - daily_risk_free) * 252) / (daily_vol * np.sqrt(252))\n",
    "    return sharpe_ratio\n",
    "\n",
    "sp500_sharpe = compute_annualized_sharpe_ratio(sp500_df[\"Daily_Return\"], daily_rf)\n",
    "dax_sharpe = compute_annualized_sharpe_ratio(dax_df[\"Daily_Return\"], daily_rf)\n",
    "\n",
    "# (v) Print out and compare\n",
    "print(\"S&P 500 Total Return Sharpe Ratio:\", round(sp500_sharpe, 4))\n",
    "print(\"DAX Sharpe Ratio:\", round(dax_sharpe, 4))\n",
    "if pd.isna(sp500_sharpe):\n",
    "    print(\"Cannot compute Sharpe Ratio for S&P 500 Total Return\")\n",
    "if pd.isna(dax_sharpe):\n",
    "    print(\"Cannot compute Sharpe Ratio for DAX\")\n",
    "if not pd.isna(sp500_sharpe) and not pd.isna(dax_sharpe):\n",
    "    if sp500_sharpe > dax_sharpe:\n",
    "        print(\"S&P 500 Total Return has a higher risk-adjusted return.\")\n",
    "    else:\n",
    "        print(\"DAX has a higher risk-adjusted return.\")\n"
   ],
   "outputs": [],
   "execution_count": null
  },
  {
   "cell_type": "markdown",
   "metadata": {},
   "source": [
    "### Exercise 5 (Optional: Additional Python Resources for Data Science)\n",
    "\n",
    "To further strengthen your skills in Python for data analysis and visualization, consider completing the following tasks:\n",
    "\n",
    "1. **Discover Additional Resources for Popular Python Packages**:  \n",
    "   - Read parts of [Python for Data Analysis](https://wesmckinney.com/book/) by Wes McKinney to enhance your knowledge of Pandas and NumPy for data manipulation.  \n",
    "   - Check out [The Python Data Science Handbook](https://jakevdp.github.io/PythonDataScienceHandbook/) by Jake VanderPlas, which covers essential tools like Matplotlib, SciPy, and Scikit-learn.  \n",
    "   - Review the [Matplotlib Cookbook](https://github.com/rougier/scientific-visualization-book) for hands-on examples of data visualization with Matplotlib.  \n",
    "   - Explore the documentation for [Seaborn](https://seaborn.pydata.org/) (for advanced statistical plots) and [Plotly](https://plotly.com/python/) (for interactive, web-based visualizations).  \n",
    "   - Visit [Claus Wilke's Data Visualization](https://clauswilke.com/dataviz/) for advice on creating effective visualizations.  \n",
    "   - Dive into the [Scientific Python Lectures](https://lectures.scientific-python.org/) to deepen your understanding of Python in scientific computing.  \n",
    "\n",
    "2. **Practice and Apply Your Skills**:  \n",
    "   - Challenge yourself with Python exercises using NumPy and Pandas on platforms like [StrataScratch](https://www.stratascratch.com), which offers real-world datasets and interview questions.  \n",
    "   - Explore practical problems and datasets on [Kaggle](https://www.kaggle.com).  \n",
    "\n",
    "3. **Choose Your Own Project**:  \n",
    "   - Alternatively, pick a project or topic that interests you and apply the concepts you've learned to it.\n"
   ]
  }
 ],
 "metadata": {
  "kernelspec": {
   "display_name": "Python 3",
   "language": "python",
   "name": "python3"
  },
  "language_info": {
   "codemirror_mode": {
    "name": "ipython",
    "version": 3
   },
   "file_extension": ".py",
   "mimetype": "text/x-python",
   "name": "python",
   "nbconvert_exporter": "python",
   "pygments_lexer": "ipython3",
   "version": "3.12.0"
  }
 },
 "nbformat": 4,
 "nbformat_minor": 2
}
