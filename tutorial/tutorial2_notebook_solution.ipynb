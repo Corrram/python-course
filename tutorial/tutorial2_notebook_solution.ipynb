{
 "cells": [
  {
   "cell_type": "markdown",
   "metadata": {},
   "source": [
    "# Python Course - Tutorial 2 - Solutions"
   ]
  },
  {
   "cell_type": "markdown",
   "metadata": {},
   "source": [
    "### Exercise 1: Boolean Logic \n",
    "\n",
    "Evaluate the following boolean expression without running any code. Write down the final result (`True` or `False`) and then verify your answer by running the code to see if you were correct.\n",
    "\n",
    "```python\n",
    "result = (True or False) and (not True or False) and (True or not False) or (not (True and False) and (True or False)) and (True and False or not False)\n",
    "```\n",
    "\n",
    "**Optional: Truthy and Falsy Values**\n",
    "\n",
    "Evaluate the following expression using the predefined variables. Some values in Python are considered \"truthy\" (treated as `True`) or \"falsy\" (treated as `False`) in boolean contexts.\\\n",
    "Determine each variable's boolean equivalent, calculate the final result, and then verify it by running the code.\n",
    "\n",
    "Variable Definitions:\n",
    "\n",
    "```python\n",
    "A = 0         \n",
    "B = \"hello\"   \n",
    "C = []        \n",
    "D = [1, 2]    \n",
    "E = \"\"        \n",
    "F = -3 \n",
    "G = {}       \n",
    "\n",
    "result_optional = ((A and not B) or (C and not D)) and (not E or (F and G)) or (not (A or C) and (D or not F)) and (E or not G)\n",
    "```\n"
   ]
  },
  {
   "cell_type": "markdown",
   "metadata": {},
   "source": [
    "#### Exercise 1: Solution\n",
    "\n",
    "In Python, logical operators are processed in this order:\n",
    "\n",
    "1. **not** (highest priority)\n",
    "2. **and**\n",
    "3. **or** (lowest priority)\n",
    "\n",
    "Use parentheses `()` to override the default order when needed.\n",
    "\n",
    "Work through the expressions using these rules and you will arrive at the same result as shown in the output."
   ]
  },
  {
   "cell_type": "markdown",
   "metadata": {},
   "source": [
    "### Exercise 2: Set Operations\n",
    "\n",
    "In Python, the symmetric difference between two sets, `A` and `B`, includes elements that are in either `A` or `B` but not in both. The symmetric difference can be computed directly with `A.symmetric_difference(B)` or `A ^ B`. \\\n",
    "Replicate this operation using the other set operations (union `A | B`, intersection `A & B` and difference `A - B`).\n",
    "\n",
    "Use the provided sets to verify your result.\n",
    "\n",
    "```python\n",
    "A = {1, 2, 3, 4}\n",
    "B = {3, 4, 5, 6}\n",
    "```\n"
   ]
  },
  {
   "cell_type": "code",
   "execution_count": null,
   "metadata": {},
   "outputs": [
    {
     "name": "stdout",
     "output_type": "stream",
     "text": [
      "Solution 1: {1, 2, 5, 6}\n",
      "Solution 2: {1, 2, 5, 6}\n"
     ]
    }
   ],
   "source": [
    "A = {1, 2, 3, 4}\n",
    "B = {3, 4, 5, 6}\n",
    "\n",
    "# Symmetric Difference\n",
    "print(f'Symmetric Difference: {A ^ B}')\n",
    "\n",
    "# Solution 1\n",
    "sol_1 = (A | B) - (A & B)\n",
    "print(f'Solution 1: {sol_1}')\n",
    "\n",
    "# Solution 2\n",
    "sol_2 = (A - B) | (B - A)\n",
    "print(f'Solution 2: {sol_2}')"
   ]
  },
  {
   "cell_type": "markdown",
   "metadata": {},
   "source": [
    "### Exercise 3: Divisible by 3 and 5\n",
    "\n",
    "##### [Project Euler - Problem 1:](https://projecteuler.net/problem=1)\n",
    "If we list all the natural numbers below 10 that are multiples of 3 or 5, we get 3, 5, 6 and 9. The sum of these multiples is 23.\\\n",
    "Find the sum of all multiples or 3 or 5 below 1000."
   ]
  },
  {
   "cell_type": "code",
   "execution_count": 1,
   "metadata": {},
   "outputs": [
    {
     "name": "stdout",
     "output_type": "stream",
     "text": [
      "Solution 1: 233168\n",
      "Solution 2: 233168\n"
     ]
    }
   ],
   "source": [
    "# Solution 1\n",
    "result = 0\n",
    "\n",
    "for number in range(1000):\n",
    "    if number % 3 == 0 or number % 5 == 0:\n",
    "        result += number\n",
    "\n",
    "print(f'Solution 1: {result}')\n",
    "\n",
    "# Solution 2\n",
    "result = sum([number for number in range(1000) if number % 3 == 0 or number % 5 == 0])\n",
    "print(f'Solution 2: {result}')"
   ]
  },
  {
   "cell_type": "markdown",
   "metadata": {},
   "source": [
    "### Exercise 4: One Liner \n",
    "\n",
    "1. Sum the even numbers in `0,...,99`.\n",
    "2. Given an n-tuple values of 2-tuples (e.g., `values = ((2,5),(4,2),(9,8),(12,10))`), count the number of pairs `(a,b)` such that both `a` and `b` are even.\n",
    "3. Given two numeric lists `x_vals` and `y_vals` of equal length, compute their inner product using the Python internal function `zip()`.\n",
    "\n",
    "For each of the three exercises above, find solutions that use only a single line of code."
   ]
  },
  {
   "cell_type": "code",
   "execution_count": 8,
   "metadata": {},
   "outputs": [
    {
     "name": "stdout",
     "output_type": "stream",
     "text": [
      "Result 4.1: 2450\n",
      "Result 4.2: 2\n",
      "Result 4.3: 32\n"
     ]
    }
   ],
   "source": [
    "# Your solution\n",
    "\n",
    "# Exercise 4.1\n",
    "result_1 = sum([i for i in range(100) if i % 2 == 0])\n",
    "# result_1 = sum([i for i in range(0, 100, 2)])\n",
    "print(f'Result 4.1: {result_1}')\n",
    "\n",
    "# Exercise 4.2\n",
    "values = ((2,5),(4,2),(9,8),(12,10))\n",
    "result_2 = sum([a % 2 == 0 and b % 2 == 0 for a, b in values])\n",
    "print(f'Result 4.2: {result_2}')\n",
    "\n",
    "# Exercise 4.3\n",
    "x_vals = [1, 2, 3]\n",
    "y_vals = [4, 5, 6]\n",
    "result_3 = sum([x * y for x, y in zip(x_vals, y_vals)])\n",
    "print(f'Result 4.3: {result_3}')"
   ]
  },
  {
   "cell_type": "markdown",
   "metadata": {},
   "source": [
    "### Exercise 5: Palindrome Checker\n",
    "\n",
    "A **palindrome** is a word, phrase, number, or other sequence of characters that reads the same forward and backward (ignoring spaces, punctuation, and capitalization).\n",
    "  \n",
    "Write a Python program that, takes a string as input, determines if the string is a palindrome and ignores spaces and capitalization in the input.\n",
    "\n",
    "##### Example:\n",
    "\n",
    "- Input: `\"radar\"`\n",
    "- Output: `True`\n",
    "\n",
    "- Input: `\"Hello\"`\n",
    "- Output: `False`\n",
    "\n",
    "- Input: `\"A man, a plan, a canal – Panama.\"`\n",
    "- Output: `True`\n",
    "\n",
    "##### Hints:\n",
    "- Use string methods like `.lower()` to handle case insensitivity.\n",
    "- You can remove spaces using `.replace(' ', '')` if necessary.\n",
    "- Use the following string to remove punctuations **'!\"#$%&\\'()*+,-./:;<=>?@[\\\\]^_\\`{|}~'**"
   ]
  },
  {
   "cell_type": "code",
   "execution_count": 7,
   "metadata": {},
   "outputs": [
    {
     "name": "stdout",
     "output_type": "stream",
     "text": [
      "Palindrome: True\n"
     ]
    }
   ],
   "source": [
    "# Your solution\n",
    "\n",
    "input_string = \"A man, a plan, a canal - Panama.\"\n",
    "\n",
    "# Transform the string to lowercase for comparison and remove spaces\n",
    "input_string = input_string.lower().replace(\" \", \"\")\n",
    "\n",
    "# Iterate over the elements of the string, remove punctuation and join the letters\n",
    "punctuations = '!\"#$%&()*+,-./:;<=>?@[\\\\]^_`{|}~'\n",
    "input_string = \"\".join([letter for letter in input_string if letter not in punctuations])\n",
    "\n",
    "print(f'Palindrome: {input_string == input_string[::-1]}')"
   ]
  },
  {
   "cell_type": "markdown",
   "metadata": {},
   "source": [
    "### Exercise 6: Number of Occurrences\n",
    "\n",
    "You are given a long string of lower and upper case letters. Your task is to count how many times the names \"Bob\" and \"Mia\" occur in the string.\\\n",
    "**Note:** The case does NOT matter. \n",
    "\n",
    "##### Example:\n",
    "\n",
    "- Input: `\"boBoBItxmIAropq\"`\n",
    "- Output: `Bob: 2, Mia: 1`"
   ]
  },
  {
   "cell_type": "code",
   "execution_count": 5,
   "metadata": {},
   "outputs": [
    {
     "name": "stdout",
     "output_type": "stream",
     "text": [
      "Bob: 2, Mia: 1\n"
     ]
    }
   ],
   "source": [
    "# Your solution\n",
    "input_string = \"boBoBItxmIAropq\"\n",
    "input_string = input_string.lower()\n",
    "\n",
    "# Initialize the counts\n",
    "bob_count = 0\n",
    "mia_count = 0\n",
    "\n",
    "# Iterate over the string indices and stop at the third to last one\n",
    "for i in range(len(input_string) - 2):\n",
    "    if input_string[i:i+3] == \"bob\":\n",
    "        bob_count += 1\n",
    "    elif input_string[i:i+3] == \"mia\":\n",
    "        mia_count += 1\n",
    "\n",
    "print(f'Bob: {bob_count}, Mia: {mia_count}')"
   ]
  },
  {
   "cell_type": "markdown",
   "metadata": {},
   "source": [
    "### Exercise 7: Collatz Conjecture\n",
    "\n",
    "The Collatz conjecture is a mathematical hypothesis that starts with any positive integer and follows a simple process:\n",
    "\n",
    "1. If the number is even, divide it by 2.\n",
    "2. If the number is odd, multiply it by 3 and add 1.\n",
    "3. Repeat this process until the number reaches 1.\n",
    "\n",
    "For example, starting with the number 6, the sequence would be:\n",
    "6 → 3 → 10 → 5 → 16 → 8 → 4 → 2 → 1\n",
    "\n",
    "Write a Python program that takes an integer input and generates a list that shows the Collatz sequence starting from that number until it reaches 1.\n",
    "\n",
    "##### Example:\n",
    "- Input: `12` \n",
    "- Output: `[12, 6, 3, 10, 5, 16, 8, 4, 2, 1]`"
   ]
  },
  {
   "cell_type": "code",
   "execution_count": null,
   "metadata": {},
   "outputs": [],
   "source": [
    "# Moved to Tutorial 3"
   ]
  },
  {
   "cell_type": "markdown",
   "metadata": {},
   "source": [
    "### Exercise 8: Longest Substring in Alphabetical Order\n",
    "\n",
    "You are given a string of lowercase letters. Your task is to determine the longest substring of letters that appear in alphabetical order. If there are multiple substrings of the same length, print the first one.\n",
    "\n",
    "For example, in the string `abcfde`, the longest substring in alphabetical order is `abc`. If the input string is `zyxwvuts`, the result would be `z` (since all the letters are in reverse order and no substring has more than one letter in alphabetical order).\n",
    "\n",
    "##### Example:\n",
    "\n",
    "- Input: `\"abcbcd\"`\n",
    "- Output: `\"abc\"`\n",
    "\n",
    "- Input: `\"zyxwvuts\"`\n",
    "- Output: `\"z\"`\n",
    "\n",
    "- Input: `\"bddlmpizgertvwx\"`\n",
    "- Output: `\"bddlmp\"`\n",
    "\n",
    "##### Hints:\n",
    "- Use a `for` loop to check each letter in the string.\n",
    "- Keep track of the current substring and the longest substring found so far.\n",
    "- Compare consecutive letters to see if they are in alphabetical order.\n"
   ]
  },
  {
   "cell_type": "code",
   "execution_count": null,
   "metadata": {},
   "outputs": [],
   "source": [
    "# Moved to Tutorial 3"
   ]
  }
 ],
 "metadata": {
  "kernelspec": {
   "display_name": "Python 3",
   "language": "python",
   "name": "python3"
  },
  "language_info": {
   "codemirror_mode": {
    "name": "ipython",
    "version": 3
   },
   "file_extension": ".py",
   "mimetype": "text/x-python",
   "name": "python",
   "nbconvert_exporter": "python",
   "pygments_lexer": "ipython3",
   "version": "3.12.1"
  }
 },
 "nbformat": 4,
 "nbformat_minor": 2
}
