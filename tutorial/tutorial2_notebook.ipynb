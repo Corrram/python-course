{
 "cells": [
  {
   "cell_type": "markdown",
   "metadata": {},
   "source": [
    "# Python Course - Tutorial 2"
   ]
  },
  {
   "cell_type": "markdown",
   "metadata": {},
   "source": [
    "### Exercise 1: Boolean Logic \n",
    "\n",
    "Evaluate the following boolean expression without running any code. Write down the final result (`True` or `False`) and then verify your answer by running the code to see if you were correct.\n",
    "\n",
    "```python\n",
    "result = (True or False) and (not True or False) and (True or not False) or (not (True and False) and (True or False)) and (True and False or not False)\n",
    "```\n",
    "\n",
    "**Optional: Truthy and Falsy Values**\n",
    "\n",
    "Evaluate the following expression using the predefined variables. Some values in Python are considered \"truthy\" (treated as `True`) or \"falsy\" (treated as `False`) in boolean contexts.\\\n",
    "Determine each variable's boolean equivalent, calculate the final result, and then verify it by running the code.\n",
    "\n",
    "Variable Definitions:\n",
    "\n",
    "```python\n",
    "A = 0         \n",
    "B = \"hello\"   \n",
    "C = []        \n",
    "D = [1, 2]    \n",
    "E = \"\"        \n",
    "F = -3 \n",
    "G = {}       \n",
    "\n",
    "result_optional = ((A and not B) or (C and not D)) and (not E or (F and G)) or (not (A or C) and (D or not F)) and (E or not G)\n",
    "```\n"
   ]
  },
  {
   "cell_type": "code",
   "execution_count": null,
   "metadata": {},
   "outputs": [],
   "source": [
    "# Your solution"
   ]
  },
  {
   "cell_type": "markdown",
   "metadata": {},
   "source": [
    "### Exercise 2: Set Operations\n",
    "\n",
    "In Python, the symmetric difference between two sets, `A` and `B`, includes elements that are in either `A` or `B` but not in both. The symmetric difference can be computed directly with `A.symmetric_difference(B)` or `A ^ B`. \\\n",
    "Replicate this operation using the other set operations (union `A | B`, intersection `A & B` and difference `A - B`).\n",
    "\n",
    "Use the provided sets to verify your result.\n",
    "\n",
    "```python\n",
    "A = {1, 2, 3, 4}\n",
    "B = {3, 4, 5, 6}\n",
    "```\n"
   ]
  },
  {
   "cell_type": "code",
   "execution_count": null,
   "metadata": {},
   "outputs": [],
   "source": [
    "# Your solution"
   ]
  },
  {
   "cell_type": "markdown",
   "metadata": {},
   "source": [
    "### Exercise 3: Divisible by 5 and 7\n",
    "\n",
    "##### [Project Euler - Problem 1:](https://projecteuler.net/problem=1)\n",
    "If we list all the natural numbers below 10 that are multiples of 3 or 5, we get 3, 5, 6 and 9. The sum of these multiples is 23.\\\n",
    "Find the sum of all multiples or 3 or 5 below 1000."
   ]
  },
  {
   "cell_type": "code",
   "execution_count": null,
   "metadata": {},
   "outputs": [],
   "source": [
    "# Your solution"
   ]
  },
  {
   "cell_type": "markdown",
   "metadata": {},
   "source": [
    "### Exercise 4: One Liner \n",
    "\n",
    "1. Sum the even numbers in `0,...,99`.\n",
    "2. Given an n-tuple values of 2-tuples (e.g., `values = ((2,5),(4,2),(9,8),(12,10))`), count the number of pairs `(a,b)` such that both `a` and `b` are even.\n",
    "3. Given two numeric lists `x_vals` and `y_vals` of equal length, compute their inner product using the Python internal function `zip()`.\n",
    "\n",
    "For each of the three exercises above, find solutions that use only a single line of code."
   ]
  },
  {
   "cell_type": "code",
   "execution_count": null,
   "metadata": {},
   "outputs": [],
   "source": [
    "# Your solution"
   ]
  },
  {
   "cell_type": "markdown",
   "metadata": {},
   "source": [
    "### Exercise 5: Palindrome Checker\n",
    "\n",
    "A **palindrome** is a word, phrase, number, or other sequence of characters that reads the same forward and backward (ignoring spaces, punctuation, and capitalization).\n",
    "  \n",
    "Write a Python program that, takes a string as input, determines if the string is a palindrome and ignores spaces and capitalization in the input.\n",
    "\n",
    "##### Example:\n",
    "\n",
    "- Input: `\"radar\"`\n",
    "- Output: `True`\n",
    "\n",
    "- Input: `\"Hello\"`\n",
    "- Output: `False`\n",
    "\n",
    "- Input: `\"A man, a plan, a canal – Panama.\"`\n",
    "- Output: `True`\n",
    "\n",
    "##### Hints:\n",
    "- Use string methods like `.lower()` to handle case insensitivity.\n",
    "- You can remove spaces using `.replace(' ', '')` if necessary.\n",
    "- Use the following string to remove punctuations **'!\"#$%&\\'()*+,-./:;<=>?@[\\\\]^_\\`{|}~'**"
   ]
  },
  {
   "cell_type": "code",
   "execution_count": null,
   "metadata": {},
   "outputs": [],
   "source": [
    "s = \"A man, a plan, a canal - Panama.\"\n",
    "# Your solution"
   ]
  },
  {
   "cell_type": "markdown",
   "metadata": {},
   "source": [
    "### Exercise 6: Number of Occurrences\n",
    "\n",
    "You are given a long string of lower and upper case letters. Your task is to count how many times the names \"Bob\" and \"Mia\" occur in the string.\\\n",
    "**Note:** The case does NOT matter. \n",
    "\n",
    "##### Example:\n",
    "\n",
    "- Input: `\"boBoBItxmIAropq\"`\n",
    "- Output: `Bob: 2, Mia: 1`"
   ]
  },
  {
   "cell_type": "code",
   "execution_count": null,
   "metadata": {},
   "outputs": [],
   "source": [
    "# Your solution"
   ]
  },
  {
   "cell_type": "markdown",
   "metadata": {},
   "source": [
    "### Exercise 7: Collatz Conjecture\n",
    "\n",
    "The Collatz conjecture is a mathematical hypothesis that starts with any positive integer and follows a simple process:\n",
    "\n",
    "1. If the number is even, divide it by 2.\n",
    "2. If the number is odd, multiply it by 3 and add 1.\n",
    "3. Repeat this process until the number reaches 1.\n",
    "\n",
    "For example, starting with the number 6, the sequence would be:\n",
    "6 → 3 → 10 → 5 → 16 → 8 → 4 → 2 → 1\n",
    "\n",
    "Write a Python program that takes an integer input and generates a list that shows the Collatz sequence starting from that number until it reaches 1.\n",
    "\n",
    "##### Example:\n",
    "- Input: `12` \n",
    "- Output: `[12, 6, 3, 10, 5, 16, 8, 4, 2, 1]`"
   ]
  },
  {
   "cell_type": "code",
   "execution_count": null,
   "metadata": {},
   "outputs": [],
   "source": [
    "# Your solution"
   ]
  },
  {
   "cell_type": "markdown",
   "metadata": {},
   "source": [
    "### Exercise 8: Longest Substring in Alphabetical Order\n",
    "\n",
    "You are given a string of lowercase letters. Your task is to determine the longest substring of letters that appear in alphabetical order. If there are multiple substrings of the same length, print the first one.\n",
    "\n",
    "For example, in the string `abcfde`, the longest substring in alphabetical order is `abc`. If the input string is `zyxwvuts`, the result would be `z` (since all the letters are in reverse order and no substring has more than one letter in alphabetical order).\n",
    "\n",
    "##### Example:\n",
    "\n",
    "- Input: `\"abcbcd\"`\n",
    "- Output: `\"abc\"`\n",
    "\n",
    "- Input: `\"zyxwvuts\"`\n",
    "- Output: `\"z\"`\n",
    "\n",
    "- Input: `\"bddlmpizgertvwx\"`\n",
    "- Output: `\"bddlmp\"`\n",
    "\n",
    "##### Hints:\n",
    "- Use a `for` loop to check each letter in the string.\n",
    "- Keep track of the current substring and the longest substring found so far.\n",
    "- Compare consecutive letters to see if they are in alphabetical order.\n"
   ]
  },
  {
   "cell_type": "code",
   "execution_count": null,
   "metadata": {},
   "outputs": [],
   "source": [
    "# Your solution"
   ]
  }
 ],
 "metadata": {
  "kernelspec": {
   "display_name": "Python 3",
   "language": "python",
   "name": "python3"
  },
  "language_info": {
   "name": "python",
   "version": "3.12.1"
  }
 },
 "nbformat": 4,
 "nbformat_minor": 2
}
