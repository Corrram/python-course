{
 "cells": [
  {
   "metadata": {},
   "cell_type": "markdown",
   "source": "# Python Course - Tutorial 6"
  },
  {
   "cell_type": "markdown",
   "metadata": {},
   "source": [
    "### Exercise 1: Robust Weather Analyzer\n",
    "Extend the `analyze_weather_data` function from the previous tutorial with exception handling. The function should handle the following exceptions:\n",
    "\n",
    "1. If the `data` parameter is not a list, raise a `TypeError` with the message: \"The data parameter must be a list!\".\n",
    "2. If the `analysis_type` parameter is not a string, raise a `TypeError` with the message: \"The analysis_type parameter must be a string!\".\n",
    "3. If the `analysis_type` parameter is not one of \"average\", \"max\", \"min\", or \"trend\", raise a `ValueError` with the message: \"The analysis_type parameter must be one of 'average', 'max', 'min', or 'trend'!\".\n",
    "4. If the `data` parameter is an empty list, raise a `ValueError` with the message: \"The data parameter must not be empty!\".\n",
    "5. *Advanced*: If the `data` parameter is a list of dictionaries, but one of the dictionaries does not have the keys \"date\", \"temperature\", \"humidity\", or \"wind_speed\", raise a `ValueError` with the message: \"The data parameter must be a list of dictionaries with the keys 'date', 'temperature', 'humidity', and 'wind_speed'!\".\n",
    "\n",
    "*Hint*: Use the built-in `isinstance()` function to check if a variable is of a certain type.\n",
    "\n",
    "**Sample Outputs**:\n",
    "```python\n",
    ">>> analyze_weather_data(\"foo\", \"average\")\n",
    "Traceback (most recent call last):\n",
    "  File \"<stdin>\", line 1, in <module>\n",
    "  File \"<stdin>\", line 3, in analyze_weather_data\n",
    "TypeError: The data parameter must be a list!\n",
    "\n",
    ">>> analyze_weather_data(weather_data, 1)\n",
    "Traceback (most recent call last):\n",
    "  File \"<stdin>\", line 1, in <module>\n",
    "  File \"<stdin>\", line 5, in analyze_weather_data\n",
    "TypeError: The analysis_type parameter must be a string!\n",
    "\n",
    ">>> analyze_weather_data(weather_data, \"foo\")\n",
    "Traceback (most recent call last):\n",
    "  File \"<stdin>\", line 1, in <module>\n",
    "  File \"<stdin>\", line 7, in analyze_weather_data\n",
    "ValueError: The analysis_type parameter must be one of 'average', 'max', 'min', or 'trend'!\n",
    "\n",
    ">>> analyze_weather_data([], \"average\")\n",
    "Traceback (most recent call last):\n",
    "  File \"<stdin>\", line 1, in <module>\n",
    "  File \"<stdin>\", line 9, in analyze_weather_data\n",
    "ValueError: The data parameter must not be empty!\n",
    "\n",
    ">>> analyze_weather_data([{\"foo\": 1}], \"average\")\n",
    "Traceback (most recent call last):\n",
    "  File \"<stdin>\", line 1, in <module>\n",
    "  File \"<stdin>\", line 11, in analyze_weather_data\n",
    "ValueError: The data parameter must be a list of dictionaries with the keys 'date', 'temperature', 'humidity', and 'wind_speed'!"
   ]
  },
  {
   "cell_type": "code",
   "execution_count": null,
   "metadata": {},
   "outputs": [],
   "source": [
    "# Your solution"
   ]
  },
  {
   "cell_type": "markdown",
   "metadata": {},
   "source": [
    "### Exercise 2: Exception Handling in Data Validation\n",
    "\n",
    "In this exercise, you will write Python functions that perform simple data validation. You will use the `raise` statement to trigger exceptions when invalid data is encountered, and you will use `try-except-else` blocks to handle these exceptions. This exercise will help you understand how to use exceptions to manage error conditions in Python without using object-oriented programming concepts.\n",
    "\n",
    "1. Write a function `validate_age(age)` that takes an integer `age` as input. If `age` is less than 0 or greater than 120, raise a `ValueError` with the message `\"Invalid age: {age}\"`. Otherwise, return `age`.\n",
    "\n",
    "2. Write a function `calculate_retirement_age(current_age)` that:\n",
    "   - Uses `validate_age` to ensure `current_age` is valid.\n",
    "   - Calculates and returns the number of years left until retirement age (assume retirement age is 65).\n",
    "   - If `current_age` is already greater than or equal to 65, return 0.\n",
    "\n",
    "3. In your main program:\n",
    "   - Prompt the user to enter their age. Use the `input()` function to get the age as a string and then convert it to an integer.\n",
    "   - Use a `try-except-else` block to handle any exceptions that may be raised during the validation and calculation process.\n",
    "   - If an exception occurs, print an error message. If no exception occurs, print the number of years left until retirement."
   ]
  },
  {
   "cell_type": "code",
   "execution_count": null,
   "metadata": {},
   "outputs": [],
   "source": [
    "# Your solution"
   ]
  },
  {
   "cell_type": "markdown",
   "metadata": {},
   "source": [
    "### Exercise 3: Debugging a Program\n",
    "\n",
    "The following Python program is intended to read sales data from a text file called `sales_data.txt` (in the GitHub repository), process the data to compute the total sales, average sales per day, and identify the day with the highest total sales. However, the program contains several bugs that prevent it from working correctly, particularly in handling datetime values when grouping sales by date. Your task is to identify and fix these bugs using a debugger."
   ]
  },
  {
   "cell_type": "code",
   "execution_count": null,
   "metadata": {},
   "outputs": [],
   "source": [
    "def process_sales_data(path):\n",
    "    total_sales = 0.0\n",
    "    sales_per_day = {}\n",
    "    highest_sales = 0.0\n",
    "    highest_day = ''\n",
    "    sales_count = 0\n",
    "\n",
    "    with open(path, 'r') as file:\n",
    "        for line in file:\n",
    "            line = line.strip()\n",
    "            if not line:\n",
    "                continue\n",
    "            date, sales = line.split(',')\n",
    "            sales = float(sales)\n",
    "            total_sales += sales\n",
    "            sales_count += 1\n",
    "            if date not in sales_per_day:\n",
    "                sales_per_day[date] = sales\n",
    "            else:\n",
    "                sales_per_day[date] += sales\n",
    "            if sales > highest_sales:\n",
    "                highest_sales = sales\n",
    "                highest_day = date\n",
    "\n",
    "    average_sales_per_day = total_sales / len(sales_per_day)\n",
    "    return total_sales, average_sales_per_day, highest_day\n",
    "\n",
    "# Sample usage\n",
    "total, average_per_day, best_day = process_sales_data('data/sales_data.txt')\n",
    "print(f\"Total Sales: ${total}\")\n",
    "print(f\"Average Daily Sales: ${average_per_day}\")\n",
    "print(f\"Highest Sales Day: {best_day}\")"
   ]
  },
  {
   "cell_type": "markdown",
   "metadata": {},
   "source": [
    "### Exercise 4: GitHub Copilot Installation\n",
    "\n",
    "1. Sign up for the free student plan of GitHub Copilot, e.g., on [GitHub Education](https://github.com/education/students).\n",
    "2. Install the GitHub Copilot extension in Visual Studio Code and the GitHub Copilot plugin in PyCharm.\n",
    "3. Test the extension/plugin by writing a few lines of code in both editors."
   ]
  }
 ],
 "metadata": {
  "kernelspec": {
   "display_name": "Python 3",
   "language": "python",
   "name": "python3"
  },
  "language_info": {
   "codemirror_mode": {
    "name": "ipython",
    "version": 3
   },
   "file_extension": ".py",
   "mimetype": "text/x-python",
   "name": "python",
   "nbconvert_exporter": "python",
   "pygments_lexer": "ipython3",
   "version": "3.12.1"
  }
 },
 "nbformat": 4,
 "nbformat_minor": 2
}
