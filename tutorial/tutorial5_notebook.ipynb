{
 "cells": [
  {
   "cell_type": "markdown",
   "metadata": {},
   "source": [
    "# Python Course - Tutorial 5"
   ]
  },
  {
   "cell_type": "markdown",
   "metadata": {},
   "source": [
    "### Exercise 1: Managing CSV Files\n",
    "Use Python's `csv` module to work with CSV data.  \n",
    "This exercise will introduce you to reading from and writing to CSV files, which is a common format for storing and sharing data.\n",
    "\n",
    "1. Use the [csv.writer](https://docs.python.org/3/library/csv.html#csv.writer) function to create a CSV file named `data.csv` with columns `Name`, `Age`, and `Income`.  \n",
    "   This will help you understand how to create and structure CSV files.\n",
    "2. Write data for 5 individuals into the CSV file. This step will show you how to add data to a CSV file.\n",
    "3. Read the CSV file using the [csv.reader](https://docs.python.org/3/library/csv.html#csv.reader) function and calculate the average income."
   ]
  },
  {
   "cell_type": "code",
   "execution_count": null,
   "metadata": {},
   "outputs": [],
   "source": [
    "# Your solution"
   ]
  },
  {
   "cell_type": "markdown",
   "metadata": {},
   "source": [
    "### Exercise 2: Navigating File Systems with the OS Module\n",
    "\n",
    "In this exercise, you will utilize Python's [os](https://docs.python.org/3/library/os.html) module to perform basic file system operations. You'll practice creating directories, handling files, and manipulating file paths.\n",
    "\n",
    "#### Tasks:\n",
    "\n",
    "1. Import the `os` module. Use `os.getcwd()` to print the current working directory.\n",
    "2. Create a new directory named `workspace` using `os.mkdir()`.\n",
    "3. Within the `workspace` directory, create a text file called `sample.txt` and write \"Exploring OS module in Python.\" into it.\n",
    "4. Verify if `sample.txt` exists in the `workspace` directory using `os.path.exists()` and print a confirmation message.\n",
    "5. Open `sample.txt`, read its contents, and display them on the console.\n",
    "6. Rename `sample.txt` to `sample_updated.txt` using `os.rename()`.\n",
    "7. Delete `sample_updated.txt` using `os.remove()`, and then remove the `workspace` directory using `os.rmdir()`.\n"
   ]
  },
  {
   "cell_type": "code",
   "execution_count": null,
   "metadata": {},
   "outputs": [],
   "source": [
    "# Your solution"
   ]
  },
  {
   "cell_type": "markdown",
   "metadata": {},
   "source": [
    "### Exercise 3: Managing Files with Pathlib\n",
    "\n",
    "In this task, you'll explore Python's [pathlib](https://docs.python.org/3/library/pathlib.html) module, which offers an object-oriented approach to handling file paths. You'll practice creating directories, files, and performing file operations using `Pathlib`.\n",
    "\n",
    "#### Tasks:\n",
    "\n",
    "1. Import the `Path` class from `pathlib`. Create a `Path` object for the current working directory and print its path.\n",
    "2. Create a directory named `docs` in the current working directory using `Path.mkdir()`.\n",
    "3. Inside `docs`, create a file called `info.txt` and write \"Learning Pathlib is fun!\" using `write_text()`.\n",
    "4. Check if `info.txt` exists using `Path.exists()` and print a message confirming its existence.\n",
    "5. Read the contents of `info.txt` using `read_text()` and print them.\n",
    "6. Rename `info.txt` to `details.txt` using the `rename()` method.\n",
    "7. Delete `details.txt` using `unlink()`, and remove the `docs` directory using `rmdir()`.\n"
   ]
  },
  {
   "cell_type": "code",
   "execution_count": null,
   "metadata": {},
   "outputs": [],
   "source": [
    "# Your solution"
   ]
  },
  {
   "cell_type": "markdown",
   "metadata": {},
   "source": [
    "### Exercise 4: File Manipulation with Shutil\n",
    "\n",
    "This exercise introduces you to Python's [shutil](https://docs.python.org/3/library/shutil.html) module for high-level file operations. You'll learn how to copy, move, rename, and archive files and directories.\n",
    "\n",
    "#### Tasks:\n",
    "\n",
    "1. Import the `shutil` and `os` modules. Create a directory named `archive` using `os.makedirs()`.\n",
    "2. Inside `archive`, create a file called `data.txt` containing the text \"Data for archiving.\"\n",
    "3. Use `shutil.copy()` to copy `data.txt` and name the copy `data_backup.txt` within the same directory.\n",
    "4. Move `data_backup.txt` to a new subdirectory `backup` inside `archive` using `shutil.move()`.\n",
    "5. Rename `data_backup.txt` inside `backup` to `backup_data.txt` using `shutil.move()`.\n",
    "6. Create a ZIP archive of the entire `archive` directory named `archive.zip` using `shutil.make_archive()`.\n",
    "7. Delete the `archive` directory and all its contents using `shutil.rmtree()`.\n"
   ]
  },
  {
   "cell_type": "code",
   "execution_count": null,
   "metadata": {},
   "outputs": [],
   "source": [
    "# Your solution"
   ]
  },
  {
   "cell_type": "markdown",
   "metadata": {},
   "source": [
    "### Exercise 5: Using the Sys Module for System Information\n",
    "\n",
    "In this exercise, you'll explore Python's [sys](https://docs.python.org/3/library/sys.html) module, which provides access to variables and functions related to the Python interpreter. You'll practice handling command-line arguments and retrieving system information.\n",
    "\n",
    "#### Tasks:\n",
    "\n",
    "1. Import the `sys` module. Print the list of command-line arguments (`sys.argv`).\n",
    "2. Write code to check if exactly two command-line arguments are provided (excluding the script name). If not, print an error message and exit using `sys.exit()`.\n",
    "3. If the correct number of arguments is provided, print both arguments.\n",
    "4. Display the Python version in use by accessing `sys.version`.\n",
    "5. Print the name of the operating system platform using `sys.platform`.\n",
    "\n",
    "*Hint*: Run the script from the command line using `python script.py arg1 arg2`.\n"
   ]
  },
  {
   "cell_type": "code",
   "execution_count": null,
   "metadata": {},
   "outputs": [],
   "source": [
    "# Your solution"
   ]
  },
  {
   "cell_type": "markdown",
   "metadata": {},
   "source": [
    "### Exercise 6: Weather Data Analyzer\n",
    "Write a function `analyze_weather_data` that takes two input parameters:\n",
    "\n",
    "- **data**: A list of dictionaries, where each dictionary represents daily weather data with keys like `date`, `temperature`, `humidity`, `wind_speed`, etc.\n",
    "- **analysis_type**: A string parameter to specify the type of analysis. It could be `\"average\"`, `\"max\"`, `\"min\"`, or `\"trend\"`.\n",
    "\n",
    "The function should return results based on the `analysis_type` value:\n",
    "\n",
    "- For `\"average\"`, return the average temperature and humidity as a dictionary.\n",
    "- For `\"max\"`, return the date with the highest temperature.\n",
    "- For `\"min\"`, return the date with the lowest temperature.\n",
    "- For `\"trend\"`, analyze and return a trend in temperature (increasing, decreasing, or mixed) over the given data.\n",
    "\n",
    "Exemplary input data:\n",
    "\n",
    "```python\n",
    "weather_data = [\n",
    "    {\"date\": \"2023-11-01\", \"temperature\": 19, \"humidity\": 50, \"wind_speed\": 5},\n",
    "    {\"date\": \"2023-11-02\", \"temperature\": 22, \"humidity\": 45, \"wind_speed\": 7},\n",
    "    {\"date\": \"2023-11-03\", \"temperature\": 22, \"humidity\": 55, \"wind_speed\": 4},\n",
    "]\n",
    "```\n",
    "\n",
    "Sample outputs:\n",
    "\n",
    "```python\n",
    ">>> analyze_weather_data(weather_data, \"average\")\n",
    "{\"temperature\": 21, \"humidity\": 50}\n",
    "\n",
    ">>> analyze_weather_data(weather_data, \"max\")\n",
    "\"2023-11-03\"\n",
    "\n",
    ">>> analyze_weather_data(weather_data, \"min\")\n",
    "\"2023-11-01\"\n",
    "\n",
    ">>> analyze_weather_data(weather_data, \"trend\")\n",
    "\"increasing\""
   ]
  },
  {
   "cell_type": "code",
   "execution_count": null,
   "metadata": {},
   "outputs": [],
   "source": [
    "# Your solution"
   ]
  },
  {
   "cell_type": "markdown",
   "metadata": {},
   "source": [
    "### Exercise 7: Git and GitHub\n",
    "\n",
    "1. In our `python_course` repository, check out a new branch on your computer called `feature/<some_creative_name>`.\n",
    "2. Create a new file called `git_exercise.py` which contains a small function that prints \"Hello Git!\" to the console.\n",
    "3. Commit and push the changes to the remote repository.\n",
    "4. On GitHub, create a pull request to merge your branch into the `main` branch (you should only create the pull request, but not actually merge the branches).\n"
   ]
  },
  {
   "cell_type": "markdown",
   "metadata": {},
   "source": [
    "### Exercise 8: Learn Git Branching (Optional)\n",
    "\n",
    "For anyone who would like to dive deeper into the possibilities of Git, I recommend doing the tutorial at [https://learngitbranching.js.org/](https://learngitbranching.js.org/).\\\n",
    "It is a great option to learn Git interactively and in a fun way.\n"
   ]
  }
 ],
 "metadata": {
  "kernelspec": {
   "display_name": "Python 3",
   "language": "python",
   "name": "python3"
  },
  "language_info": {
   "name": "python",
   "version": "3.12.1"
  }
 },
 "nbformat": 4,
 "nbformat_minor": 2
}
