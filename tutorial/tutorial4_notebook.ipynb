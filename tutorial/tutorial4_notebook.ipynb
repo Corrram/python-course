{
 "cells": [
  {
   "cell_type": "markdown",
   "metadata": {},
   "source": [
    "# Python-Course - Tutorial 4"
   ]
  },
  {
   "cell_type": "markdown",
   "metadata": {},
   "source": [
    "### Exercise 1: PyCharm Installation\n",
    "Install the PyCharm IDE on your computer. You can download PyCharm from [https://www.jetbrains.com/pycharm/download/](https://www.jetbrains.com/pycharm/download/).  \n",
    "Please install the Professional version as we will use some of its advanced features in the course.\n",
    "\n",
    "As a student, you can get a free license for the Professional version by signing up with your university email address. You can find more information on how to get a free student license at [https://www.jetbrains.com/community/education/#students](https://www.jetbrains.com/community/education/#students).\n",
    "\n",
    "**Note**: Formally, you need to apply for a student license, but the process is straightforward and fully automated."
   ]
  },
  {
   "cell_type": "markdown",
   "metadata": {},
   "source": [
    "### Exercise 2: Basic Statistics with Python\n",
    "Use Python to perform basic statistical analysis on a dataset.  \n",
    "This exercise will introduce you to the `random` and [statistics](https://docs.python.org/3/library/statistics.html) modules from Python's standard library.  \n",
    "Follow the steps below to practice generating random data and calculating basic statistics.\n",
    "\n",
    "1. First, generate a list of 20 random integers between 1 and 100 using the [randint](https://docs.python.org/3/library/random.html#random.randint) function from the [random](https://docs.python.org/3/library/random.html) module.  \n",
    "   This will help you practice creating random data.\n",
    "2. Next, use the `statistics` module to calculate the mean (average) of the generated list. The mean is an important measure in data analysis to determine the central value of the data.\n",
    "3. Then, calculate the median (the middle value) and mode (the most frequently occurring value) of the list to understand the distribution of your data.\n",
    "4. Finally, find the standard deviation of the list, which measures how spread out the numbers are in your dataset.\n"
   ]
  },
  {
   "cell_type": "code",
   "execution_count": null,
   "metadata": {},
   "outputs": [],
   "source": [
    "# Your solution"
   ]
  },
  {
   "cell_type": "markdown",
   "metadata": {},
   "source": [
    "### Exercise 3: Working with Dates\n",
    "Perform operations on dates using Python's [datetime](https://docs.python.org/3/library/datetime.html) module.  \n",
    "This exercise will help you learn how to manipulate dates and perform date arithmetic, which is useful for analyzing timelines and planning.\n",
    "\n",
    "1. Import the `datetime` module and create an object representing today's date. This will introduce you to creating and using date objects.\n",
    "2. Calculate the date 100 days from today using a [timedelta](https://docs.python.org/3/library/datetime.html#datetime.timedelta) of 100 days.\n",
    "3. Calculate the number of days between today and December 31, 2024. This will give you practice in determining the difference between two dates.\n",
    "4. Determine the day of the week for your next birthday. This will help you practice extracting specific information from a date object. You can use the `datetime` method together with [strftime](https://docs.python.org/3/library/datetime.html#datetime.datetime.strftime) to format the date.\n"
   ]
  },
  {
   "cell_type": "code",
   "execution_count": null,
   "metadata": {},
   "outputs": [],
   "source": [
    "# Your solution"
   ]
  },
  {
   "cell_type": "markdown",
   "metadata": {},
   "source": [
    "### Exercise 4: Managing CSV Files\n",
    "Use Python's `csv` module to work with CSV data.  \n",
    "This exercise will introduce you to reading from and writing to CSV files, which is a common format for storing and sharing data.\n",
    "\n",
    "1. Use the [csv.writer](https://docs.python.org/3/library/csv.html#csv.writer) function to create a CSV file named `data.csv` with columns `Name`, `Age`, and `Income`.  \n",
    "   This will help you understand how to create and structure CSV files.\n",
    "2. Write data for 5 individuals into the CSV file. This step will show you how to add data to a CSV file.\n",
    "3. Read the CSV file using the [csv.reader](https://docs.python.org/3/library/csv.html#csv.reader) function and calculate the average income."
   ]
  },
  {
   "cell_type": "code",
   "execution_count": null,
   "metadata": {},
   "outputs": [],
   "source": [
    "# Your solution"
   ]
  },
  {
   "cell_type": "markdown",
   "metadata": {},
   "source": [
    "### Exercise 5: Exploring the OS Module for File Operations\n",
    "This exercise will guide you through using Python's [os](https://docs.python.org/3/library/os.html) module to perform essential file and directory operations. You will learn how to create and rename directories, manage files, and handle file paths effectively.\n",
    "\n",
    "1. Start by importing the `os` module. Retrieve and print the current working directory using the [os.getcwd()](https://docs.python.org/3/library/os.html#os.getcwd) function.\n",
    "2. Create a directory called `data` within the current directory using [os.makedirs()](https://docs.python.org/3/library/os.html#os.makedirs).\n",
    "3. Inside the `data` folder, create a text file named `example.txt` and write \"Hello, OS Module!\" into this file.\n",
    "4. Use [os.path.exists()](https://docs.python.org/3/library/os.path.html#os.path.exists) to check if `example.txt` exists in `data`, and print a confirmation if it does.\n",
    "5. Open `example.txt` again, read its content, and print it to the console.\n",
    "6. Rename `example.txt` to `example-renamed.txt` using [os.rename()](https://docs.python.org/3/library/os.html#os.rename).\n",
    "7. Delete `example-renamed.txt` and the `data` directory using [os.remove()](https://docs.python.org/3/library/os.html#os.remove) for the file and [os.rmdir()](https://docs.python.org/3/library/os.html#os.rmdir) for the folder."
   ]
  },
  {
   "cell_type": "code",
   "execution_count": null,
   "metadata": {},
   "outputs": [],
   "source": [
    "# Your solution"
   ]
  },
  {
   "cell_type": "markdown",
   "metadata": {
    "vscode": {
     "languageId": "plaintext"
    }
   },
   "source": [
    "### Exercise 6: Working with Pathlib for File and Directory Management\n",
    "In this task, you will use Python’s [pathlib](https://docs.python.org/3/library/pathlib.html) module, which provides an object-oriented approach to handling file paths. You’ll practice creating, renaming, and deleting files and directories with `Pathlib`.\n",
    "\n",
    "1. Import the `Path` class from `pathlib`. Use it to create a reference to the current working directory and print the directory path.\n",
    "2. Use `Path.mkdir()` to create a directory called `data` in the current working directory.\n",
    "3. Inside `data`, create a file named `example.txt` and use `write_text()` to write \"Hello, Pathlib!\" to this file.\n",
    "4. Verify the existence of `example.txt` in the `data` directory using `Path.exists()` and print a message if it exists.\n",
    "5. Use `read_text()` to read the contents of `example.txt` and display them in the console.\n",
    "6. Rename `example.txt` to `example-renamed.txt` with the `rename()` method.\n",
    "7. Remove `example-renamed.txt` and the `data` directory using `unlink()` and `rmdir()` respectively."
   ]
  },
  {
   "cell_type": "code",
   "execution_count": null,
   "metadata": {},
   "outputs": [],
   "source": [
    "# Your solution"
   ]
  },
  {
   "cell_type": "markdown",
   "metadata": {},
   "source": [
    "### Exercise 7: Weather Data Analyzer\n",
    "Write a function `analyze_weather_data` that takes two input parameters:\n",
    "\n",
    "- **data**: A list of dictionaries, where each dictionary represents daily weather data with keys like `date`, `temperature`, `humidity`, `wind_speed`, etc.\n",
    "- **analysis_type**: A string parameter to specify the type of analysis. It could be `\"average\"`, `\"max\"`, `\"min\"`, or `\"trend\"`.\n",
    "\n",
    "The function should return results based on the `analysis_type` value:\n",
    "\n",
    "- For `\"average\"`, return the average temperature and humidity as a dictionary.\n",
    "- For `\"max\"`, return the date with the highest temperature.\n",
    "- For `\"min\"`, return the date with the lowest temperature.\n",
    "- For `\"trend\"`, analyze and return a trend in temperature (increasing, decreasing, or mixed) over the given data.\n",
    "\n",
    "Exemplary input data:\n",
    "\n",
    "```python\n",
    "weather_data = [\n",
    "    {\"date\": \"2023-11-01\", \"temperature\": 19, \"humidity\": 50, \"wind_speed\": 5},\n",
    "    {\"date\": \"2023-11-02\", \"temperature\": 22, \"humidity\": 45, \"wind_speed\": 7},\n",
    "    {\"date\": \"2023-11-03\", \"temperature\": 22, \"humidity\": 55, \"wind_speed\": 4},\n",
    "]\n",
    "```\n",
    "\n",
    "Sample outputs:\n",
    "\n",
    "```python\n",
    ">>> analyze_weather_data(weather_data, \"average\")\n",
    "{\"temperature\": 21, \"humidity\": 50}\n",
    "\n",
    ">>> analyze_weather_data(weather_data, \"max\")\n",
    "\"2023-11-03\"\n",
    "\n",
    ">>> analyze_weather_data(weather_data, \"min\")\n",
    "\"2023-11-01\"\n",
    "\n",
    ">>> analyze_weather_data(weather_data, \"trend\")\n",
    "\"increasing\""
   ]
  },
  {
   "cell_type": "code",
   "execution_count": null,
   "metadata": {},
   "outputs": [],
   "source": [
    "# Your solution"
   ]
  }
 ],
 "metadata": {
  "kernelspec": {
   "display_name": "Python 3",
   "language": "python",
   "name": "python3"
  },
  "language_info": {
   "name": "python",
   "version": "3.12.1"
  }
 },
 "nbformat": 4,
 "nbformat_minor": 2
}
