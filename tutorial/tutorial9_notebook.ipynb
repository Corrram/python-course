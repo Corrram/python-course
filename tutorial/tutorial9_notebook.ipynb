{
 "cells": [
  {
   "cell_type": "markdown",
   "metadata": {},
   "source": [
    "# Python Course - Tutorial 9"
   ]
  },
  {
   "cell_type": "markdown",
   "metadata": {},
   "source": [
    "### Exercise 1 (Data Visualization with Matplotlib)\n",
    "\n",
    "Consider the music.db database provided in our GitHub repository. Create a histogram\n",
    "that shows the distribution of the total number of items purchased per invoice. Add\n",
    "appropriate axis labels, a title, and a grid to the plot. Save the plot in a designated\n",
    "directory named images/ and exclude this directory from version control."
   ]
  },
  {
   "cell_type": "code",
   "metadata": {},
   "source": "# Your solution",
   "outputs": [],
   "execution_count": null
  },
  {
   "cell_type": "markdown",
   "metadata": {},
   "source": [
    "### Exercise 2 (Linear Regression with Statsmodels)\n",
    "\n",
    "Using the `music.db` database, investigate the relationship between track length and the number of times a track has been streamed. Treat track length (in milliseconds) as the **independent variable** and the total number of streams (from the play histories table) as the **dependent variable**.\n",
    "\n",
    "*Note:* Since track length does not have mean zero, you should include an intercept in the model. For this, you can use `X = sm.add_constant(X, prepend=True)` before fitting the model.\n"
   ]
  },
  {
   "cell_type": "code",
   "metadata": {},
   "source": "# Your solution",
   "outputs": [],
   "execution_count": null
  },
  {
   "cell_type": "markdown",
   "metadata": {},
   "source": [
    "### Exercise 3 (Statistical Analysis with SciPy)\n",
    "\n",
    "The `northwind` database from our GitHub repository contains unit price and category information for various products. Write a function that takes two category names as input and performs a **t-test** to determine if the mean product unit prices of the two categories are significantly different. The function should return a boolean value indicating whether the difference is significant at a **95% confidence level** (i.e., whether the p-value is less than 0.05).\n"
   ]
  },
  {
   "cell_type": "code",
   "metadata": {},
   "source": "# Your solution",
   "outputs": [],
   "execution_count": null
  },
  {
   "cell_type": "markdown",
   "metadata": {},
   "source": [
    "### Exercise 4 (Sharpe Ratio Comparison)\n",
    "In the field of finance, the **Sharpe Ratio** is a common metric used to understand how well an investment performs relative to its risk. Formally, the Sharpe Ratio is calculated as:\n",
    "\n",
    "$$\n",
    "\\text{Sharpe Ratio} = \\frac{R_p - R_f}{\\sigma_p}\n",
    "$$\n",
    "\n",
    "where:  \n",
    "- $R_p$ is the expected return (often taken as the mean return of the asset over a given period).  \n",
    "- $R_f$ is the risk-free rate (a theoretical return of an investment with zero risk, often approximated by government bonds).  \n",
    "- $\\sigma_p$ is the standard deviation (volatility) of the asset’s returns.\n",
    "\n",
    "A higher Sharpe Ratio indicates that the investment is providing a higher return per unit of risk.\n",
    "\n",
    "---\n",
    "\n",
    "**In the lecture you have downloaded:**\n",
    "\n",
    "1. **SP500_Total_Return.csv**: Historical data for the S&P 500 Total Return Index  \n",
    "2. **DAX.csv**: Historical data for the DAX Index  \n",
    "\n",
    "**Your tasks are to:**  \n",
    "\n",
    "(i) Load both datasets from the CSV files into Pandas DataFrames.  \n",
    "\n",
    "(ii) Compute the daily returns for each index (use e.g., Pandas `pct_change()` method).  \n",
    "\n",
    "(iii) Assume a **constant annualized risk-free rate of 2%** for this analysis. (In practice, you might load this from a dataset or a more appropriate proxy.)  \n",
    "\n",
    "(iv) Compute the annualized Sharpe Ratio for each index using:\n",
    "\n",
    "$$\n",
    "\\text{Sharpe Ratio (annualized)} = \\frac{(\\text{mean daily return} - \\text{daily risk-free rate}) \\times 252}{\\text{daily return volatility} \\times \\sqrt{252}}\n",
    "$$\n",
    "\n",
    "Here, $252$ represents the approximate number of trading days in a year.\n",
    "\n",
    "(v) Print out the Sharpe Ratio for both the S&P 500 Total Return and the DAX, and compare which one has a higher risk-adjusted return.\n",
    "\n",
    "**Note:** If a particular index has no data or returns are NaN, handle it gracefully and report that the Sharpe Ratio cannot be computed."
   ]
  },
  {
   "cell_type": "code",
   "metadata": {},
   "source": "# Your solution",
   "outputs": [],
   "execution_count": null
  },
  {
   "cell_type": "markdown",
   "metadata": {},
   "source": [
    "### Exercise 5 (Optional: Additional Python Resources for Data Science)\n",
    "\n",
    "To further strengthen your skills in Python for data analysis and visualization, consider completing the following tasks:\n",
    "\n",
    "1. **Discover Additional Resources for Popular Python Packages**:  \n",
    "   - Read parts of [Python for Data Analysis](https://wesmckinney.com/book/) by Wes McKinney to enhance your knowledge of Pandas and NumPy for data manipulation.  \n",
    "   - Check out [The Python Data Science Handbook](https://jakevdp.github.io/PythonDataScienceHandbook/) by Jake VanderPlas, which covers essential tools like Matplotlib, SciPy, and Scikit-learn.  \n",
    "   - Review the [Matplotlib Cookbook](https://github.com/rougier/scientific-visualization-book) for hands-on examples of data visualization with Matplotlib.  \n",
    "   - Explore the documentation for [Seaborn](https://seaborn.pydata.org/) (for advanced statistical plots) and [Plotly](https://plotly.com/python/) (for interactive, web-based visualizations).  \n",
    "   - Visit [Claus Wilke's Data Visualization](https://clauswilke.com/dataviz/) for advice on creating effective visualizations.  \n",
    "   - Dive into the [Scientific Python Lectures](https://lectures.scientific-python.org/) to deepen your understanding of Python in scientific computing.  \n",
    "\n",
    "2. **Practice and Apply Your Skills**:  \n",
    "   - Challenge yourself with Python exercises using NumPy and Pandas on platforms like [StrataScratch](https://www.stratascratch.com), which offers real-world datasets and interview questions.  \n",
    "   - Explore practical problems and datasets on [Kaggle](https://www.kaggle.com).  \n",
    "\n",
    "3. **Choose Your Own Project**:  \n",
    "   - Alternatively, pick a project or topic that interests you and apply the concepts you've learned to it.\n"
   ]
  }
 ],
 "metadata": {
  "kernelspec": {
   "display_name": "Python 3",
   "language": "python",
   "name": "python3"
  },
  "language_info": {
   "codemirror_mode": {
    "name": "ipython",
    "version": 3
   },
   "file_extension": ".py",
   "mimetype": "text/x-python",
   "name": "python",
   "nbconvert_exporter": "python",
   "pygments_lexer": "ipython3",
   "version": "3.12.0"
  }
 },
 "nbformat": 4,
 "nbformat_minor": 2
}
